{
 "cells": [
  {
   "cell_type": "markdown",
   "metadata": {},
   "source": [
    "# Week 5 Lab Exercises\n",
    "\n",
    "## Introduction to Python, Part 3\n",
    "\n",
    "**Assigned** in class on Wednesday 26 September 2018\n",
    "\n",
    "**Due** by midnight on Tuesday 2 October 2018\n",
    "\n",
    "### Questions/Office Hours\n",
    "\n",
    "If you have questions about this week's lab, reading, or lecture, reach out to the TA, Sean Bailey, at spb60@pitt.edu, or visit their office hours:\n",
    "\n",
    "* Monday, 2pm-4pm\n",
    "* Tuesday, 11am-1pm\n",
    "\n",
    "Office hours are in the Digital Scholarship Commons in the back of the ground floor of Hillman Library.\n",
    "\n",
    "If there is another time that works better for you, please reach out via email to set up a meeting."
   ]
  },
  {
   "cell_type": "markdown",
   "metadata": {},
   "source": [
    "----"
   ]
  },
  {
   "cell_type": "markdown",
   "metadata": {},
   "source": [
    "## Exercises\n",
    "\n",
    "The exercises this week draw more heavily on previous weeks' exercises and utilize some parts of JupyterLab and Python that we haven't really worked with before. They are primarily based on your reading for this week, chapters 7, 8, and 9 of *Python for Everyone*. For your reference:\n",
    "\n",
    "* [Chapter 7: Files](https://www.py4e.com/html3/07-files)\n",
    "* [Chapter 8: Lists](https://www.py4e.com/html3/08-lists)\n",
    "* [Chapter 9: Dictionaries](https://www.py4e.com/html3/09-dictionaries)\n",
    "\n",
    "### A Note on Boilerplate\n",
    "\n",
    "One of the major benefits of tools like Jupyter are that it makes it easy to strip away the \"boilerplate\" that comes with programming languages; some of these exercises relies on a little bit more of that than in weeks past. If you get confused or something stops working, send me an email or troubleshoot with me in office hours."
   ]
  },
  {
   "cell_type": "markdown",
   "metadata": {},
   "source": [
    "----"
   ]
  },
  {
   "cell_type": "markdown",
   "metadata": {},
   "source": [
    "#### **Exercise 1**\n",
    "\n",
    "###### sections to reference: [opening files](https://www.py4e.com/html3/07-files)\n",
    "\n",
    "This one definitely falls in the category of \"pointless exercises\". You're going to make a program that prompts for a filename. If the file exists, quit the program! Don't print anything out, don't do anything with the file, don't do anything. Just quit. If the file *doesn't* exist, complain, and prompt the user for a filename again. Do this until the user gives you a valid filename or pours water on their computer in frustration. (Just kidding. Don't pour water on your computer.)\n",
    "\n",
    "You're going to want to put the filename prompt inside a loop, so you can ask the user for a filename as many times as you want. But what kind of loop? And how will you get out of the loop once you've got a valid file?\n",
    "\n",
    "![thinking face](https://media.giphy.com/media/3o7buirYcmV5nSwIRW/giphy.gif)"
   ]
  },
  {
   "cell_type": "code",
   "execution_count": null,
   "metadata": {},
   "outputs": [],
   "source": []
  },
  {
   "cell_type": "markdown",
   "metadata": {},
   "source": [
    "#### **Exercise 2**\n",
    "\n",
    "###### sections to reference: [opening files](https://www.py4e.com/html3/07-files)\n",
    "\n",
    "Write a program that asks the user for a file and simply prints the entire contents of the file out. If the user enters a file that doesn't exist, give the user an error and prompt for a filename again. \n",
    "\n",
    "**Hint**: You can do the printing in *one line of code*."
   ]
  },
  {
   "cell_type": "code",
   "execution_count": null,
   "metadata": {},
   "outputs": [],
   "source": []
  },
  {
   "cell_type": "markdown",
   "metadata": {},
   "source": [
    "#### **Exercise 3**\n",
    "\n",
    "###### sections to reference: [parsing strings](https://www.py4e.com/html3/06-strings)\n",
    "\n",
    "This exercise deals with a test file, `spam1.txt`. You can open that file in a new tab so you can get a sense for what it looks like and what you're going to be dealing with. \n",
    "\n",
    "You're going to be writing a program that deals with a list of spam confidence values. The file, spam1.txt, looks something like this:"
   ]
  },
  {
   "cell_type": "raw",
   "metadata": {},
   "source": [
    "X-DSPAM-Confidence: 0.8475\n",
    "X-DSPAM-Confidence: 0.9288\n",
    "X-DSPAM-Confidence: 0.0129\n",
    "X-DSPAM-Confidence: 0.5102\n",
    "X-DSPAM-Confidence: 0.8912\n",
    "..."
   ]
  },
  {
   "cell_type": "markdown",
   "metadata": {},
   "source": [
    "There are 500 spam confidence values in the file `spam1.txt`. I want you to tell me two things about the values:\n",
    "\n",
    "1. The **average** of all of the spam values in the file, and\n",
    "1. **How many** emails have a spam value of over 90% (so, >0.9).\n",
    "\n",
    "You'll need to read the file line by line and process each line so you can get the float.\n",
    "\n",
    "After you're done with that program, make a Markdown cell below your code and **tell me**, in a few sentences, what the average spam confidence *means*. By way of explanation, the spam value is a value generated by an algorithm (individual email providers keep their algorithms closely guarded, but they're all pretty much based on *Bayesian math*, if you're interested.) That algorithm rates any given email from 0 to 1 on how confident they are that the email is spam. 1 means that the algorithm thinks it *definitely* is spam, and 0 means that the algorithm thinks there's no chance it's spam.\n",
    "\n",
    "So, once you have your average value, **what does that mean** for any given email in the set? What are the chances it'll be spam or not?"
   ]
  },
  {
   "cell_type": "code",
   "execution_count": null,
   "metadata": {},
   "outputs": [],
   "source": []
  },
  {
   "cell_type": "markdown",
   "metadata": {},
   "source": [
    "#### **Exercise 4**\n",
    "\n",
    "###### sections to reference: [searching through a file](https://www.py4e.com/html3/07-files)\n",
    "\n",
    "This exercise is a continuation of the previous one. You've got a new text file to process, called `spam2.txt`. It has a bunch of spam confidence values, but it's also got some other information, too, like the sender, message subject, and the date and time that it's been sent. A sample record from the file looks like this:"
   ]
  },
  {
   "cell_type": "raw",
   "metadata": {},
   "source": [
    "From louis@media.berkeley.edu Fri Jan 4 18:10:48 2008\n",
    "Return-Path: <postmaster@collab.sakaiproject.org>\n",
    "X-Sieve: CMU Sieve 2.3\n",
    "Message-ID: <200801042308.m04N8v6O008125@nakamura.uits.iupui.edu>\n",
    "Mime-Version: 1.0\n",
    "Content-Transfer-Encoding: 7bit\n",
    "Date: Fri 4 Jan 2008 18:08:57 -0500\n",
    "To: source@collab.sakaiproject.org\n",
    "Subject: [sakai] svn commit: r39771 - in bspace/site-manage/sakai_2-4-x/site-manage-tool/tool/src: bundle java/org/sakaiproject/site/tool\n",
    "X-Content-Type-Outer-Envelope: text/plain; charset=UTF-8\n",
    "X-Content-Type-Message-Body: text/plain; charset=UTF-8\n",
    "Content-Type: text/plain; charset=UTF-8\n",
    "X-DSPAM-Result: Innocent\n",
    "X-DSPAM-Processed: Fri Jan  4 18:10:48 2008\n",
    "X-DSPAM-Confidence: 0.6178\n",
    "X-DSPAM-Probability: 0.0000"
   ]
  },
  {
   "cell_type": "markdown",
   "metadata": {},
   "source": [
    "There is a lot of information here, and this, if you can believe it, is a *stripped-down* version of what the email server records look like. \n",
    "\n",
    "`spam2.txt` contains a bunch of email records. You're going to write a program, similar to Exercise 3, wherein you grab the spam confidence from each email. Like before, you're going to **take the average** of these values. When you encounter an email with a spam confidence greater than 90%, though, you're going to **print out** the email address that sent the email, the email address that received it, the date and time that it was sent, and the spam confidence value. \n",
    "\n",
    "**Note**: Don't simply print out the entire lines of the file that have that information; get the specific items that you want and format it nicely. "
   ]
  },
  {
   "cell_type": "code",
   "execution_count": null,
   "metadata": {},
   "outputs": [],
   "source": []
  },
  {
   "cell_type": "markdown",
   "metadata": {},
   "source": [
    "#### **Exercise 5**\n",
    "\n",
    "###### sections to reference: [list methods](https://www.py4e.com/html3/08-lists)\n",
    "\n",
    "Below are the lines of a program I wrote to add some things to a list of my favorite foods, sort the list, and then print them out in alphabetical order. The problem is that, when I was uploading this program to the supercomputer, my internet stopped working and my program's lines got all mixed up.\n",
    "\n",
    "Your task is this: rearrange the lines below so the program sorts and then prints the elements in my list of foods. When you've got the order all sorted out, put it in the code cell below. And thanks for your help!\n",
    "\n",
    "```python\n",
    "my_fave_foods.sort()\n",
    "for food in my_fave_foods:\n",
    "my_fave_foods.append(\"asiago cheese\")\n",
    "my_fave_foods = [\"serrano peppers\", \"bananas\", \"apple pie\", \"veal\", \"smoked brisket\"]\n",
    "    print(food)\n",
    "```"
   ]
  },
  {
   "cell_type": "code",
   "execution_count": null,
   "metadata": {},
   "outputs": [],
   "source": []
  },
  {
   "cell_type": "markdown",
   "metadata": {},
   "source": [
    "#### **Exercise 6**\n",
    "\n",
    "###### sections to reference: [lists](https://www.py4e.com/html3/08-lists)\n",
    "\n",
    "So, now that you're an expert in sorting lists of food, let's get a little bit more literary. `richard3.txt` contains the text of Richard's opening soliloquy from Shakespeare's play *Richard III*. \n",
    "\n",
    "You can watch a performance of it [here](https://www.youtube.com/watch?v=OfaVYn1v4jM), if you're interested.\n",
    "\n",
    "You're going to write a program that reads in the soliloquy from the file line by line. Then, using the `split` function, split each line into a list of words. Create a list to contain all of your words. Going word by word, check if the word is already in the list. If not, add it.\n",
    "\n",
    "Once you've gone through the whole file, sort the list of words in alphabetical order, and print it out."
   ]
  },
  {
   "cell_type": "code",
   "execution_count": null,
   "metadata": {},
   "outputs": [],
   "source": []
  },
  {
   "cell_type": "markdown",
   "metadata": {},
   "source": [
    "#### **Exercise 7**\n",
    "\n",
    "###### sections to reference: [dictionaries and files](https://www.py4e.com/html3/09-dictionaries)\n",
    "\n",
    "In the previous exercise, you just discarded words that were duplicates, but what if you wanted to count them?\n",
    "\n",
    "You're going to read in `richard3.txt` again, but this time use a *dictionary*. Iterate through the lines in the file and, for each word, if this is its first occurence, add the word as a *key* to the dictionary and the number \"1\" as a *value*. If the word exists in the dictionary, *add one* to its value.\n",
    "\n",
    "Then, print out your word-frequency dictionary."
   ]
  },
  {
   "cell_type": "code",
   "execution_count": null,
   "metadata": {},
   "outputs": [],
   "source": []
  },
  {
   "cell_type": "markdown",
   "metadata": {},
   "source": [
    "#### **Exercise 8**\n",
    "\n",
    "###### sections to reference: [dictionaries and files](https://www.py4e.com/html3/09-dictionaries)\n",
    "\n",
    "Hey, remember that program you've been working on for a few weeks now that lets a user enter scores and get a letter grade? Well, we're not done with that yet.\n",
    "\n",
    "Being able to take a score and get a grade is great, but you still have to write down that grade so it doesn't go away when you close the program. What if we could *store* the grades that students get somehow, so we can keep the information on our computers between runs of our program. Hmmmmm...\n",
    "\n",
    "You're going to be making a big upgrade to the program compared to last week. Allow the user to enter a student name and their grade. Convert the grade into a number, and then do your `computegrade` function. If you didn't have it *returning* values, you'll need to modify it so it returns a string with the letter grade.\n",
    "\n",
    "Then, add the student name as a key, and their grade as a value. If the student already exists in the database, update their grade.\n",
    "\n",
    "When the user enters `!quit`, ask them if they want to *save their grades*. If they do, use the `pickle` package to write the dictionary to file.\n",
    "\n",
    "Then, modify your program so, when you start up, you ask them if they have a grade file. If they enter a filename, use `pickle` to load your dictionary."
   ]
  },
  {
   "cell_type": "code",
   "execution_count": null,
   "metadata": {},
   "outputs": [],
   "source": []
  }
 ],
 "metadata": {
  "kernelspec": {
   "display_name": "Python 3",
   "language": "python",
   "name": "python3"
  },
  "language_info": {
   "codemirror_mode": {
    "name": "ipython",
    "version": 3
   },
   "file_extension": ".py",
   "mimetype": "text/x-python",
   "name": "python",
   "nbconvert_exporter": "python",
   "pygments_lexer": "ipython3",
   "version": "3.6.5"
  },
  "nteract": {
   "version": "0.11.7"
  }
 },
 "nbformat": 4,
 "nbformat_minor": 2
}
